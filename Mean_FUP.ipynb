{
 "cells": [
  {
   "cell_type": "code",
   "execution_count": 30,
   "id": "36ab945a",
   "metadata": {},
   "outputs": [],
   "source": [
    "import pandas as pd\n",
    "import numpy as np\n",
    "import scipy\n",
    "import lifelines\n",
    "import pandas\n",
    "from lifelines import KaplanMeierFitter\n",
    "from lifelines import CoxPHFitter\n",
    "import matplotlib.pyplot as plt"
   ]
  },
  {
   "cell_type": "code",
   "execution_count": null,
   "id": "8c85c832",
   "metadata": {},
   "outputs": [],
   "source": [
    "import pandas as pd\n",
    "\n",
    "# Load datasets\n",
    "merged_data = pd.read_csv(\"path/to/cohort_file.csv\")\n",
    "merged_data_key = pd.read_csv(\"path/to/cohort_file.csv\")\n",
    "\n",
    "# Create and apply a column renaming mapping for merged_data\n",
    "cohort_mapping = dict(zip(merged_data_key[\"Column Name\"], merged_data_key[\"Description\"]))\n",
    "cohort_mapping.pop('PID', None)  # Ensure 'PID' remains unchanged\n",
    "trimmed_cohort_mapping = {col: desc.split(\" - \")[-1] for col, desc in cohort_mapping.items()}\n",
    "merged_data.rename(columns=trimmed_cohort_mapping, inplace=True)\n",
    "\n",
    "# Inspect the final dataset\n",
    "merged_data"
   ]
  },
  {
   "cell_type": "code",
   "execution_count": null,
   "id": "1934dcb6",
   "metadata": {},
   "outputs": [],
   "source": [
    "import numpy as np\n",
    "import pandas as pd\n",
    "\n",
    "# Individual databases\n",
    "datasets = {\n",
    "    'Optum': merged_data,\n",
    "}\n",
    "\n",
    "# Mean, SD, and median per database\n",
    "for name, data in datasets.items():\n",
    "    # Drop missing follow-up times if any\n",
    "    fup = data['Follow Up Time'].dropna().to_numpy()\n",
    "\n",
    "    mean = fup.mean()\n",
    "    sd = fup.std(ddof=1)  # sample SD\n",
    "    median = np.median(fup)\n",
    "\n",
    "    print(f\"{name} Mean Follow-up Time: {mean:.1f} days\")\n",
    "    print(f\"{name} SD of Follow-up Time: {sd:.1f} days\")\n",
    "    print(f\"{name} Median Follow-up Time: {median:.1f} days\\n\")\n",
    "\n",
    "    # Stratified by Exposure Group\n",
    "    print(f\"{name} Stratified Follow-up Time by Exposure Group:\")\n",
    "    for group, group_df in data.groupby(\"Exposure Group\"):\n",
    "        g = group_df[\"Follow Up Time\"].dropna().to_numpy()\n",
    "        if g.size > 0:\n",
    "            g_mean = g.mean()\n",
    "            g_sd = g.std(ddof=1) if g.size > 1 else float('nan')\n",
    "            g_median = np.median(g)\n",
    "            print(f\"  Group {group}: Mean = {g_mean:.1f} days, SD = {g_sd:.1f} days, Median = {g_median:.1f} days\")\n",
    "        else:\n",
    "            print(f\"  Group {group}: No data available\")\n",
    "    print()"
   ]
  }
 ],
 "metadata": {
  "kernelspec": {
   "display_name": "myenv",
   "language": "python",
   "name": "python3"
  },
  "language_info": {
   "codemirror_mode": {
    "name": "ipython",
    "version": 3
   },
   "file_extension": ".py",
   "mimetype": "text/x-python",
   "name": "python",
   "nbconvert_exporter": "python",
   "pygments_lexer": "ipython3",
   "version": "3.10.16"
  }
 },
 "nbformat": 4,
 "nbformat_minor": 5
}
